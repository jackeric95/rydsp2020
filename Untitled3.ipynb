{
 "cells": [
  {
   "cell_type": "code",
   "execution_count": 36,
   "metadata": {},
   "outputs": [],
   "source": [
    "from __future__ import print_function, division\n",
    "\n",
    "import thinkdsp\n",
    "import thinkplot\n",
    "\n",
    "import numpy as np\n",
    "\n",
    "import warnings\n",
    "warnings.filterwarnings('ignore')\n",
    "\n",
    "PI2 = 2 * np.pi\n",
    "\n",
    "np.set_printoptions(precision=3, suppress=True)\n",
    "%matplotlib inline"
   ]
  },
  {
   "cell_type": "code",
   "execution_count": 37,
   "metadata": {},
   "outputs": [
    {
     "name": "stdout",
     "output_type": "stream",
     "text": [
      "[1.+0.j 1.+0.j 1.+0.j 1.+0.j 1.+0.j 1.+0.j 1.+0.j 1.+0.j]\n"
     ]
    }
   ],
   "source": [
    "x1 = [1, 0 , 0 , 0 , 0 , 0 , 0 , 0 ]\n",
    "hs = np.fft.fft(x1)\n",
    "print(hs)"
   ]
  },
  {
   "cell_type": "code",
   "execution_count": 38,
   "metadata": {},
   "outputs": [
    {
     "name": "stdout",
     "output_type": "stream",
     "text": [
      "[8.+0.j 0.+0.j 0.+0.j 0.+0.j 0.+0.j 0.+0.j 0.+0.j 0.+0.j]\n"
     ]
    }
   ],
   "source": [
    "x2 = [1, 1 , 1 , 1 , 1 , 1 , 1 , 1 ]\n",
    "hs2 = np.fft.fft(x2)\n",
    "print(hs2)"
   ]
  },
  {
   "cell_type": "code",
   "execution_count": 39,
   "metadata": {},
   "outputs": [
    {
     "name": "stdout",
     "output_type": "stream",
     "text": [
      "[0.+0.j 0.+0.j 0.+0.j 0.+0.j 8.+0.j 0.+0.j 0.+0.j 0.+0.j]\n"
     ]
    }
   ],
   "source": [
    "x3 = [1, -1 , 1 , -1 , 1 , -1 , 1 , -1 ]\n",
    "hs3 = np.fft.fft(x3)\n",
    "print(hs3)"
   ]
  },
  {
   "cell_type": "code",
   "execution_count": 40,
   "metadata": {},
   "outputs": [
    {
     "name": "stdout",
     "output_type": "stream",
     "text": [
      "[9.+0.j 1.+0.j 1.+0.j 1.+0.j 9.+0.j 1.+0.j 1.+0.j 1.+0.j]\n"
     ]
    }
   ],
   "source": [
    "x4 = [3, 0 , 2 , 0 , 2 , 0 , 2 , 0 ]\n",
    "hs4 = np.fft.fft(x4)\n",
    "print(hs4)"
   ]
  },
  {
   "cell_type": "code",
   "execution_count": 41,
   "metadata": {},
   "outputs": [],
   "source": [
    "array=[1,1,0,0,0,0,1,1]"
   ]
  },
  {
   "cell_type": "code",
   "execution_count": 42,
   "metadata": {},
   "outputs": [
    {
     "name": "stdout",
     "output_type": "stream",
     "text": [
      "[ 0.5  +0.j     0.302-0.125j  0.   +0.j    -0.052+0.125j  0.   +0.j\n",
      " -0.052-0.125j  0.   +0.j     0.302+0.125j]\n"
     ]
    }
   ],
   "source": [
    "hs5 = np.fft.ifft(array)\n",
    "print(hs5)"
   ]
  },
  {
   "cell_type": "code",
   "execution_count": 43,
   "metadata": {},
   "outputs": [
    {
     "name": "stdout",
     "output_type": "stream",
     "text": [
      "[ 0.375+0.j  0.302+0.j  0.125+0.j -0.052+0.j -0.125+0.j -0.052+0.j\n",
      "  0.125+0.j  0.302+0.j]\n"
     ]
    }
   ],
   "source": [
    "array2=[1,1,0,0,0,0,0,1]\n",
    "hs6 = np.fft.ifft(array2)\n",
    "print(hs6)"
   ]
  },
  {
   "cell_type": "code",
   "execution_count": 44,
   "metadata": {},
   "outputs": [
    {
     "name": "stdout",
     "output_type": "stream",
     "text": [
      "[2.+0.j 1.-1.j 0.+0.j 1.+1.j]\n"
     ]
    }
   ],
   "source": [
    "x7 = [1,  1 , 0 , 0 ]\n",
    "hs7 = np.fft.fft(x7)\n",
    "print(hs7)"
   ]
  },
  {
   "cell_type": "code",
   "execution_count": 45,
   "metadata": {},
   "outputs": [
    {
     "name": "stdout",
     "output_type": "stream",
     "text": [
      "[2.   +0.j    1.707-0.707j 1.   -1.j    0.293-0.707j 0.   +0.j\n",
      " 0.293+0.707j 1.   +1.j    1.707+0.707j]\n"
     ]
    }
   ],
   "source": [
    "x8 = [1, 1 , 0 , 0 , 0 , 0 , 0 , 0 ]\n",
    "hs8 = np.fft.fft(x8)\n",
    "print(hs8)"
   ]
  }
 ],
 "metadata": {
  "kernelspec": {
   "display_name": "Python 3",
   "language": "python",
   "name": "python3"
  },
  "language_info": {
   "codemirror_mode": {
    "name": "ipython",
    "version": 3
   },
   "file_extension": ".py",
   "mimetype": "text/x-python",
   "name": "python",
   "nbconvert_exporter": "python",
   "pygments_lexer": "ipython3",
   "version": "3.7.0"
  }
 },
 "nbformat": 4,
 "nbformat_minor": 2
}
